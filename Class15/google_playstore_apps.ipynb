{
 "cells": [
  {
   "cell_type": "markdown",
   "metadata": {},
   "source": [
    "# **EDA Report: Google Play Store Apps Dataset**\n",
    "- ## **Author:** Asjad Ali\n",
    "- ### **Email:** aliasjid009@gmail.com\n",
    "- ### **Date:** 13/08/2023\n",
    "\n",
    "> In this Exploratory Data Analysis (EDA) report, we will examine and summarize the main characteristics of the Google Play Store Apps dataset. The dataset contains details about various applications available on the Play Store and is sourced from Kaggle.\n",
    "\n",
    "## **Dataset Overview**\n",
    "\n",
    "- **Dataset Name:** Google PlayStore Apps\n",
    "- **Dataset Size:** 210MB\n",
    "- **Number of Apps:** 10,0000+\n",
    "- **Data Collection Date** June 2021\n",
    "- **Data Collection Method** Python script(Scrapy)\n",
    "\n",
    "## **Objective**\n",
    "\n",
    "> The main objective of this project is to gain insights into customer demands and provide valuable information to developers, helping them popularize their products on the Google Play Store.\n",
    "\n",
    "## **Data Analysis**\n",
    "\n",
    "1. **Data Understanding:**\n",
    "\n",
    "   > We will start by exploring the structure and contents of the dataset.\n",
    "   > We will examine the variables, their types, and the overall data distribution.\n",
    "\n",
    "1. **Data Quality Check:**\n",
    "\n",
    "   > We will identify and handle any missing values, outliers, or inconsistencies in the data.\n",
    "   > We will assess the quality and reliability of the dataset.\n",
    "\n",
    "1. **Exploring Patterns:**\n",
    "\n",
    "   > We will analyze the data to uncover patterns, trends, and correlations among variables.\n",
    "   > We will generate visualizations and summary statistics to identify interesting insights.\n",
    "\n",
    "1. **Variable Relationships:**\n",
    "\n",
    "   > We will investigate the relationships between variables.\n",
    "   > We will measure the strength and direction of correlations and assess the impact of one variable on another.\n",
    "\n",
    "1. **Feature Selection:**\n",
    "\n",
    "   > Based on our analysis, we will determine which features are most informative and relevant for predicting app popularity.\n",
    "   > We will perform feature selection or dimensionality reduction techniques.\n",
    "\n",
    "1. **Outlier Detection:**\n",
    "\n",
    "   > We will identify any outliers or anomalies in the dataset.\n",
    "   > We will examine extreme or unexpected observations that may require further investigation.\n",
    "\n",
    "1. **Data Visualization:**\n",
    "\n",
    "   > We will create visual representations such as plots, charts, or graphs to communicate our findings effectively.\n",
    "\n",
    "## **Conclusion**\n",
    "\n",
    "> Through this EDA report, we aim to gain insights, discover patterns, and uncover relationships within the Google Play Store Apps dataset. The analysis will provide valuable information to developers, enabling them to understand customer demands and popularize their applications on the Play Store.\n",
    "\n",
    "For detailed access to the dataset, please follow this [link 🔗](https://www.kaggle.com/datasets/gauthamp10/google-playstore-apps).\n",
    "\n",
    "Note: The analysis and findings presented in this report are based on the available dataset and the EDA techniques applied."
   ]
  },
  {
   "cell_type": "markdown",
   "metadata": {},
   "source": [
    "## **Import the libraries**"
   ]
  },
  {
   "cell_type": "code",
   "execution_count": null,
   "metadata": {},
   "outputs": [],
   "source": [
    "import pandas as pd\n",
    "import numpy as np\n",
    "import matplotlib.pyplot as plt\n",
    "%matplotlib inline\n",
    "import seaborn as sns\n",
    "import warnings\n",
    "warnings.filterwarnings('ignore')\n",
    "warnings.simplefilter(action = 'ignore', category = FutureWarning)"
   ]
  },
  {
   "cell_type": "markdown",
   "metadata": {},
   "source": [
    "## **Data Preprocessing**\n",
    "- Load the csv file with pandas\n",
    "- Creating Dataframe of the csv file and understanding the data present in the dataset\n",
    "- Dealing with the missing/null values"
   ]
  },
  {
   "cell_type": "code",
   "execution_count": null,
   "metadata": {},
   "outputs": [],
   "source": [
    "df = pd.read_csv(\"../Datasets/googleplaystore.csv\")"
   ]
  },
  {
   "cell_type": "markdown",
   "metadata": {},
   "source": [
    "- ### **Data Composition**"
   ]
  },
  {
   "cell_type": "markdown",
   "metadata": {},
   "source": [
    "**View the first 5 rows of the data**"
   ]
  },
  {
   "cell_type": "code",
   "execution_count": null,
   "metadata": {},
   "outputs": [],
   "source": [
    "df.head()"
   ]
  },
  {
   "cell_type": "markdown",
   "metadata": {},
   "source": [
    "- From here we have come to know that with which type of data we are going to deal with."
   ]
  },
  {
   "cell_type": "markdown",
   "metadata": {},
   "source": [
    "**Let's see the columns in the dataset**"
   ]
  },
  {
   "cell_type": "code",
   "execution_count": null,
   "metadata": {},
   "outputs": [],
   "source": [
    "df.columns"
   ]
  },
  {
   "cell_type": "markdown",
   "metadata": {},
   "source": [
    "| Column Name         | Description                                                                   |\n",
    "|---------------------|-------------------------------------------------------------------------------|\n",
    "| **App Name**        | The name or title of the application available on the Google Play Store.    |\n",
    "| **App Id**          | The unique identifier assigned to each application.                          |\n",
    "| **Category**        | The category or genre to which the application belongs.                      |\n",
    "| **Rating**          | The average user rating or feedback score received by the application.       |\n",
    "| **Rating Count**    | The total number of user ratings received by the application.                |\n",
    "| **Installs**        | The estimated number of times the application has been installed.           |\n",
    "| **Minimum Installs**| The minimum number of installations required for the application to be listed on the Play Store. |\n",
    "| **Maximum Installs**| The maximum number of installations recorded for the application.           |\n",
    "| **Free**            | Indicates whether the application is available for free or if it has a price. |\n",
    "| **Price**           | The price of the application, if it is not available for free.               |\n",
    "| **Currency**        | The currency in which the price is listed.                                   |\n",
    "| **Size**            | The size of the application in terms of storage space.                       |\n",
    "| **Minimum Android** | The minimum Android version required to run the application.                 |\n",
    "| **Developer Id**    | The unique identifier assigned to the application developer.                |\n",
    "| **Developer Website** | The website associated with the application developer.                   |\n",
    "| **Developer Email** | The email address of the application developer.                             |\n",
    "| **Released**        | The date when the application was initially released.                        |\n",
    "| **Last Updated**    | The date when the application was last updated.                              |\n",
    "| **Content Rating**  | The age-based rating or content suitability of the application.             |\n",
    "| **Privacy Policy**  | The link to the privacy policy associated with the application.             |\n",
    "| **Ad Supported**    | Indicates whether the application contains advertisements.                  |\n",
    "| **In App Purchases** | Indicates whether the application offers in-app purchases.                  |\n",
    "| **Editors Choice**  | Indicates whether the application has been selected as an editor's choice on the Play Store. |\n",
    "| **Scraped Time**    | The date and time when the data was scraped or collected from the Play Store. |\n"
   ]
  },
  {
   "cell_type": "markdown",
   "metadata": {},
   "source": [
    "**Important things to know**"
   ]
  },
  {
   "cell_type": "code",
   "execution_count": null,
   "metadata": {},
   "outputs": [],
   "source": [
    "pd.set_option('display.max_columns', None)\n",
    "pd.set_option('display.max_rows', None)"
   ]
  },
  {
   "cell_type": "markdown",
   "metadata": {},
   "source": [
    "**Shape or Dimensions of the data**"
   ]
  },
  {
   "cell_type": "code",
   "execution_count": null,
   "metadata": {},
   "outputs": [],
   "source": [
    "df.shape"
   ]
  },
  {
   "cell_type": "markdown",
   "metadata": {},
   "source": [
    "- It shows that there are 2312944 rows and 24 columns in the dataset, which means that Google playstore has more than 2.3 million applications."
   ]
  },
  {
   "cell_type": "markdown",
   "metadata": {},
   "source": [
    "**Let's get some more information about the data**"
   ]
  },
  {
   "cell_type": "code",
   "execution_count": null,
   "metadata": {},
   "outputs": [],
   "source": [
    "df.info()"
   ]
  },
  {
   "cell_type": "markdown",
   "metadata": {},
   "source": [
    "- It shows the number of enteries in the data and data types of the columns. Like:\n",
    "  - 4 bool type columns\n",
    "  - 4 float type columns\n",
    "  - 1 integer type column\n",
    "  - 15 object type columns -> we will see its further details onwards\n",
    "- Data set is using 361.8+ MB memory of the system"
   ]
  },
  {
   "cell_type": "markdown",
   "metadata": {},
   "source": [
    "## **Descriptive Statistics**"
   ]
  },
  {
   "cell_type": "code",
   "execution_count": null,
   "metadata": {},
   "outputs": [],
   "source": [
    "df.describe()"
   ]
  },
  {
   "cell_type": "markdown",
   "metadata": {},
   "source": [
    "- Describe function shows the summary of the data and summary is only of numeric variables. It shows, there are only these 5 columns ***Rating, Rating Count, Minumum Installs, Maximum Installs, Price*** in the whole data that are numeric\n",
    "- Count of ***Rating*** (2.290016e+06) and ***Rating Count*** (2.290016e+06) is less than other columns, which shows that these 2 column contain missing values\n",
    "- Maximum number of ***Minimum installs*** recorded for any application is 10 billion\n",
    "- Maximum number of ***Maximum installs*** recorded for any application is 12+ billion\n",
    "- Maximum ***Rating*** for any application is 5\n",
    "- Maximum ***Rating Count*** for any application is 138.5576 million\n",
    "- Maximum ***Price*** for any application is 400. But at this moment, we can say, which currecy it is."
   ]
  },
  {
   "cell_type": "markdown",
   "metadata": {},
   "source": [
    "**To see the entire column, we can use pandas' set_option() function**"
   ]
  },
  {
   "cell_type": "code",
   "execution_count": null,
   "metadata": {},
   "outputs": [],
   "source": [
    "pd.set_option('display.max_columns', None)"
   ]
  },
  {
   "cell_type": "markdown",
   "metadata": {},
   "source": [
    "## **Missing Values**"
   ]
  },
  {
   "cell_type": "code",
   "execution_count": null,
   "metadata": {},
   "outputs": [],
   "source": [
    "missing_values = df.isnull().sum().sort_values(ascending=False)\n",
    "print(missing_values)"
   ]
  },
  {
   "cell_type": "markdown",
   "metadata": {},
   "source": [
    "- It means that ***Developer Websites*** contain highest number of missing values that is 760835\n",
    "- It also shows that most of the App Developers do not provide its ***Website Address***, ***Privacy Policy*** of the app that is very important and also ***Released date*** of the application.\n",
    "- Missing values of the ***Minimum Android*** shows that, they don't tell which version of android is suitable for application.\n",
    "- Missing vakues of ***Size*** shows that, they don,t provide details about application size."
   ]
  },
  {
   "cell_type": "markdown",
   "metadata": {},
   "source": [
    "### **Visualizing Missing/Null Values**"
   ]
  },
  {
   "cell_type": "code",
   "execution_count": null,
   "metadata": {},
   "outputs": [],
   "source": [
    "import matplotlib\n",
    "matplotlib.rcParams['figure.figsize'] = (20,10)\n",
    "sns.heatmap(df.isnull(), xticklabels=False, cbar=False, cmap='viridis')\n",
    "plt.title('Number of Missing Values')"
   ]
  },
  {
   "cell_type": "markdown",
   "metadata": {},
   "source": [
    "- It is easy to visualize missing values. The yellow lines are indicating the missing vakues in each column."
   ]
  },
  {
   "cell_type": "markdown",
   "metadata": {},
   "source": [
    "**Percentage of missing values**"
   ]
  },
  {
   "cell_type": "code",
   "execution_count": null,
   "metadata": {},
   "outputs": [],
   "source": [
    "missing_percentage = df.isnull().sum().sort_values(ascending=False)/len(df)*100\n",
    "print(missing_percentage)"
   ]
  },
  {
   "cell_type": "markdown",
   "metadata": {},
   "source": [
    "- Here, we can see the percentage of missing data in the columns."
   ]
  },
  {
   "cell_type": "markdown",
   "metadata": {},
   "source": [
    "**Visualizing Percenage of Missing Values**"
   ]
  },
  {
   "cell_type": "code",
   "execution_count": null,
   "metadata": {},
   "outputs": [],
   "source": [
    "missing_percentage = missing_percentage[missing_percentage != 0]\n",
    "import matplotlib\n",
    "matplotlib.rcParams['figure.figsize'] = (20, 8)\n",
    "sns.barplot(x=missing_percentage, y=missing_percentage.index)\n",
    "plt.xticks(rotation=90)\n",
    "plt.title('Percentage of Missing Values')"
   ]
  },
  {
   "cell_type": "markdown",
   "metadata": {},
   "source": [
    "- Here, it is more easy to visualize the percentage of missing values in the data. \n",
    "- The column haveing highest percentage of missing values are:\n",
    "    - ***Developer Website***\n",
    "    - ***Privay Policy***\n",
    "- If we want, we can drop these columns from the dataset or we can drop rows that contain missing values because we cannot impute missing values in these columns because they are very specific/unique to applications\n",
    "- We can impute or drop small null values for the columns like,\n",
    "  - Size\n",
    "  - Installs\n",
    "  - Currency\n",
    "  - Minimum Installs\n",
    "  - App Name\n",
    "  - Developer Id\n",
    "  - Developer Email\n",
    "- We can impute null values for the following columns, becuase they are important features:\n",
    "  - Released\n",
    "  - Rating\n",
    "  - Minimum Android\n",
    "  - Rating Count\n",
    "- Imputation of missing values depends upon the end purpose of data and we normally oerform imputation when we have small amount of data"
   ]
  },
  {
   "cell_type": "markdown",
   "metadata": {},
   "source": [
    "**Droppping Missing Values from the Data**"
   ]
  },
  {
   "cell_type": "code",
   "execution_count": null,
   "metadata": {},
   "outputs": [],
   "source": [
    "df.dropna(subset=['Size', 'Installs', 'Currency', 'Developer Id', 'Developer Email', 'App Name', 'Minimum Installs'], inplace=True)"
   ]
  },
  {
   "cell_type": "markdown",
   "metadata": {},
   "source": [
    "- Here, we have dropped rows that contain missing values from the dataset to clean our data."
   ]
  },
  {
   "cell_type": "code",
   "execution_count": null,
   "metadata": {},
   "outputs": [],
   "source": [
    "df.isnull().sum().sort_values(ascending=False)"
   ]
  },
  {
   "cell_type": "markdown",
   "metadata": {},
   "source": [
    "- Here, we can see that missing values are removed from most of the columns and only those columns are left behind where we want to impute missing values."
   ]
  },
  {
   "cell_type": "markdown",
   "metadata": {},
   "source": [
    "## **Data Cleaning**"
   ]
  },
  {
   "cell_type": "markdown",
   "metadata": {},
   "source": [
    "**Let's check the duplicated values in the `App Name` column and we see duplicated data in columns that are unique**"
   ]
  },
  {
   "cell_type": "code",
   "execution_count": null,
   "metadata": {},
   "outputs": [],
   "source": [
    "df['App Name'].duplicated().any()"
   ]
  },
  {
   "cell_type": "markdown",
   "metadata": {},
   "source": [
    "- Here, `True` shows that there are duplicated values in ***App Name*** column means that there are more than one Apps with same name."
   ]
  },
  {
   "cell_type": "markdown",
   "metadata": {},
   "source": [
    "**Now, let's see which rows are duplicated**"
   ]
  },
  {
   "cell_type": "code",
   "execution_count": null,
   "metadata": {},
   "outputs": [],
   "source": [
    "df['App Name'].value_counts()"
   ]
  },
  {
   "cell_type": "markdown",
   "metadata": {},
   "source": [
    "- Here we can see that there are many duplicated rows of Apps in this column."
   ]
  },
  {
   "cell_type": "markdown",
   "metadata": {},
   "source": [
    "**Before removing the duplicated values, let's check are they actually duplicated or not**"
   ]
  },
  {
   "cell_type": "code",
   "execution_count": null,
   "metadata": {},
   "outputs": [],
   "source": [
    "df[df['App Name'] == 'Tic Tac Toe']"
   ]
  },
  {
   "cell_type": "markdown",
   "metadata": {},
   "source": [
    "- Here we can see that they are not actually duplicated because name is same but other features like App Id, Category, Installs, Rating etc are different, that shows they are not actually duplicated."
   ]
  },
  {
   "cell_type": "markdown",
   "metadata": {},
   "source": [
    "**On the base of App Id we can check if there are duplicated rows in data or not**"
   ]
  },
  {
   "cell_type": "code",
   "execution_count": null,
   "metadata": {},
   "outputs": [],
   "source": [
    "df['App Id'].value_counts()"
   ]
  },
  {
   "cell_type": "markdown",
   "metadata": {},
   "source": [
    "- From the above output, the value counts for each ***App Id*** is 1. So, we have concluded that there are Apps with same name but they are different based on App Id's. So, no duplicated rows in the data."
   ]
  },
  {
   "cell_type": "markdown",
   "metadata": {},
   "source": [
    "### **Explore Different Variables**"
   ]
  },
  {
   "cell_type": "markdown",
   "metadata": {},
   "source": [
    "1. Install"
   ]
  },
  {
   "cell_type": "code",
   "execution_count": null,
   "metadata": {},
   "outputs": [],
   "source": [
    "df['Installs'].unique()"
   ]
  },
  {
   "cell_type": "markdown",
   "metadata": {},
   "source": [
    "- It shows the number of installations of different appps.\n",
    "- Highest number of installations recorded for any app is 1 billion+\n",
    "- Lowest number of installations are 0+\n",
    "- Here `+` means that insallation of any app may be in process during scraping so it will not be counted."
   ]
  },
  {
   "cell_type": "markdown",
   "metadata": {},
   "source": [
    "**Convert `Installs` from `object` to `int` datatype**\n",
    "> As we discussed before, object dtypes will be dealed later on. So here we are dealing with it and also with commmas(,) and plus(+)"
   ]
  },
  {
   "cell_type": "code",
   "execution_count": null,
   "metadata": {},
   "outputs": [],
   "source": [
    "df['Installs'] = df['Installs'].str.split('+').str[0]\n",
    "df['Installs'].replace(',', '', regex=True, inplace=True)\n",
    "df['Installs'] = df['Installs'].astype(np.int64)"
   ]
  },
  {
   "cell_type": "code",
   "execution_count": null,
   "metadata": {},
   "outputs": [],
   "source": [
    "df['Installs'].unique()"
   ]
  },
  {
   "cell_type": "markdown",
   "metadata": {},
   "source": [
    "- As we can see from the output, comma(,) and plus(+) have removed from the install values and we have converted its type from object to int."
   ]
  },
  {
   "cell_type": "markdown",
   "metadata": {},
   "source": [
    "2. Currency"
   ]
  },
  {
   "cell_type": "code",
   "execution_count": null,
   "metadata": {},
   "outputs": [],
   "source": [
    "df['Currency'].unique()"
   ]
  },
  {
   "cell_type": "markdown",
   "metadata": {},
   "source": [
    "- Here, we can see from the output that which currencies are acceptable in Google playstore.\n",
    "- List of currencies acceptable in Google playstore:\n",
    "  - **USD:** United States Dollar\n",
    "  - **XXX:** This is often used as a placeholder or code for transactions involving no specific currency.\n",
    "  - **CAD:** Canadian Dollar\n",
    "  - **EUR:** Euro (used by many countries in the European Union)\n",
    "  - **INR:** Indian Rupee\n",
    "  - **VND:** Vietnamese Dong\n",
    "  - **GBP:** British Pound Sterling\n",
    "  - **BRL:** Brazilian Real\n",
    "  - **KRW:** South Korean Won\n",
    "  - **TRY:** Turkish Lira\n",
    "  - **RUB:** Russian Ruble\n",
    "  - **SGD:** Singapore Dollar\n",
    "  - **AUD:** Australian Dollar\n",
    "  - **PKR:** Pakistani Rupee\n",
    "  - **ZAR:** South African Rand"
   ]
  },
  {
   "cell_type": "markdown",
   "metadata": {},
   "source": [
    "3. Size"
   ]
  },
  {
   "cell_type": "code",
   "execution_count": null,
   "metadata": {},
   "outputs": [],
   "source": [
    "df['Size'].unique()"
   ]
  },
  {
   "cell_type": "markdown",
   "metadata": {},
   "source": [
    "- From the above output, we can see that the size of the App can be in GB, MB and KB."
   ]
  },
  {
   "cell_type": "markdown",
   "metadata": {},
   "source": [
    "**Let's convert App size in MB**"
   ]
  },
  {
   "cell_type": "code",
   "execution_count": null,
   "metadata": {},
   "outputs": [],
   "source": [
    "df['Size'] = df['Size'].apply(lambda x: str(x).replace('M', '') if 'M' in str(x) else x)"
   ]
  },
  {
   "cell_type": "markdown",
   "metadata": {},
   "source": [
    "- Here, we have firstly remove `M` from ***Size*** column' each value. For example, if it was firstly 10M, now its only 10."
   ]
  },
  {
   "cell_type": "code",
   "execution_count": null,
   "metadata": {},
   "outputs": [],
   "source": [
    "df['Size'] = df['Size'].apply(lambda x: float(str(x).replace('k', ''))/1024 if 'k' in str(x) else x)"
   ]
  },
  {
   "cell_type": "markdown",
   "metadata": {},
   "source": [
    "- Here we have mismatched value with the data. We have got 1,018 which is causing error. So we have to remove this value from data or convert this comma(,) into dot(.) comsidering it an incorrect value in the **Size** column"
   ]
  },
  {
   "cell_type": "code",
   "execution_count": null,
   "metadata": {},
   "outputs": [],
   "source": [
    "df['Size'] = df['Size'].apply(lambda x: str(x).replace(',', '.') if ',' in str(x) else x)"
   ]
  },
  {
   "cell_type": "markdown",
   "metadata": {},
   "source": [
    "- After this, we have to run the above cell again. We are basically converting *kbs* into *MB*"
   ]
  },
  {
   "cell_type": "markdown",
   "metadata": {},
   "source": [
    "**Again convert `Size` to float**"
   ]
  },
  {
   "cell_type": "markdown",
   "metadata": {},
   "source": [
    "- Here we are again encountering a problem that ***App Size*** varies with device. So, you may drop them or replace it with 0. Here, I am assuming it as 0."
   ]
  },
  {
   "cell_type": "code",
   "execution_count": null,
   "metadata": {},
   "outputs": [],
   "source": [
    "df['Size'] = df['Size'].apply(lambda x:str(x).replace('Varies with device', '0') if 'Varies with device' in str(x) else x)"
   ]
  },
  {
   "cell_type": "markdown",
   "metadata": {},
   "source": [
    "- Here we have replace `Varies with device` columns with `0`"
   ]
  },
  {
   "cell_type": "markdown",
   "metadata": {},
   "source": [
    "**Now let's convert `Size` to float**"
   ]
  },
  {
   "cell_type": "code",
   "execution_count": null,
   "metadata": {},
   "outputs": [],
   "source": [
    "# df['Size'] = df['Size'].apply(lambda x:float(x))"
   ]
  },
  {
   "cell_type": "markdown",
   "metadata": {},
   "source": [
    "- Here we are again encountering an issue that there are values in GBs like 1.5G"
   ]
  },
  {
   "cell_type": "markdown",
   "metadata": {},
   "source": [
    "**Convert GBs to MBs**"
   ]
  },
  {
   "cell_type": "code",
   "execution_count": null,
   "metadata": {},
   "outputs": [],
   "source": [
    "df['Size'] = df['Size'].apply(lambda x: float(str(x).replace('G', ''))*1024 if 'G' in str(x) else x)"
   ]
  },
  {
   "cell_type": "markdown",
   "metadata": {},
   "source": [
    "- Now we have converted the data in GBs to MBs."
   ]
  },
  {
   "cell_type": "markdown",
   "metadata": {},
   "source": [
    "**Now convert `Size` to float**"
   ]
  },
  {
   "cell_type": "code",
   "execution_count": null,
   "metadata": {},
   "outputs": [],
   "source": [
    "df['Size'] = df['Size'].apply(lambda x:float(x))"
   ]
  },
  {
   "cell_type": "code",
   "execution_count": null,
   "metadata": {},
   "outputs": [],
   "source": [
    "df.dtypes['Size']"
   ]
  },
  {
   "cell_type": "code",
   "execution_count": null,
   "metadata": {},
   "outputs": [],
   "source": [
    "print(max(df['Size']))"
   ]
  },
  {
   "cell_type": "markdown",
   "metadata": {},
   "source": [
    "- Conlusion from ***Size*** column\n",
    "  - We convert GBs, MBs and KBs to MBs to get a clear overview.\n",
    "  - The largest size of any app in MBs is 1536, other than that applications that Varies with device."
   ]
  },
  {
   "cell_type": "markdown",
   "metadata": {},
   "source": [
    "4. Minumum Android"
   ]
  },
  {
   "cell_type": "code",
   "execution_count": null,
   "metadata": {},
   "outputs": [],
   "source": [
    "df['Minimum Android'].unique()"
   ]
  },
  {
   "cell_type": "markdown",
   "metadata": {},
   "source": [
    "- It shows different ***Minimum Android*** version required to run an playstore application. As the minimum version let's say is 4.1 then there is no purpose to write `and up` with, that's why we can remove it."
   ]
  },
  {
   "cell_type": "markdown",
   "metadata": {},
   "source": [
    "**Removing ` and up` from Minimum Andriod Values**"
   ]
  },
  {
   "cell_type": "code",
   "execution_count": null,
   "metadata": {},
   "outputs": [],
   "source": [
    "df['Minimum Android'] = df['Minimum Android'].str.replace(' and up', '')"
   ]
  },
  {
   "cell_type": "code",
   "execution_count": null,
   "metadata": {},
   "outputs": [],
   "source": [
    "df['Minimum Android'].unique()"
   ]
  },
  {
   "cell_type": "markdown",
   "metadata": {},
   "source": [
    "- Also there is `W` written with some values. It means, Android version that is specifically designed for wearable devices. For example, if there is value `4.4W` is a wearable API level that was released prior to Android 5.0 (Lollipop) as an update of the API to include the Android Wear APIs. This version of Android is exclusive to smartwatches and other wearable devices. It is important to note that \"4.4W\" is not the same as the regular Android 4.4 version, which is designed for smartphones and tablets.\n",
    "- It means there are different values in it, not only versions but also wearables"
   ]
  },
  {
   "cell_type": "markdown",
   "metadata": {},
   "source": [
    "5. Content Rating"
   ]
  },
  {
   "cell_type": "code",
   "execution_count": null,
   "metadata": {},
   "outputs": [],
   "source": [
    "df['Content Rating'].unique()"
   ]
  },
  {
   "cell_type": "markdown",
   "metadata": {},
   "source": [
    "- It shows the that for which age group, specific apps are designed according to its content. \n",
    "- Here:\n",
    "  - Everyone -> Content is generally suitable for all ages. May contain minimal cartoon, fantasy or mild violence and/or infrequent use of mild language.\n",
    "  - Teen -> Content is generally suitable for ages 13 and up. May contain violence, suggestive themes, crude humor, minimal blood, simulated gambling, and/or infrequent use of strong language.\n",
    "  - Mature 17+ -> Content is generally suitable for ages 17 and up. May contain intense violence, blood and gore, sexual content, and/or strong language.\n",
    "  - Everyone 10+ -> Content is generally suitable for ages 10 and up. May contain more cartoon, fantasy or mild violence, mild language and/or minimal suggestive themes.\n",
    "  - Adults only 18+ -> Content is suitable only for adults. May include graphic depictions of sex and/or violence.\n",
    "  - Unrated -> Indicates possible exposure to unfiltered/uncensored user-generated content, including user-to-user communications and media sharing via online platforms."
   ]
  },
  {
   "cell_type": "markdown",
   "metadata": {},
   "source": [
    "6. Released"
   ]
  },
  {
   "cell_type": "code",
   "execution_count": null,
   "metadata": {},
   "outputs": [],
   "source": [
    "df['Released'].unique()"
   ]
  },
  {
   "cell_type": "markdown",
   "metadata": {},
   "source": [
    "- From here, we can see that how long ago an app was released and in which year most number of apps were released."
   ]
  },
  {
   "cell_type": "markdown",
   "metadata": {},
   "source": [
    "**Imputing null values in `Released`**"
   ]
  },
  {
   "cell_type": "code",
   "execution_count": null,
   "metadata": {},
   "outputs": [],
   "source": [
    "# imoute null values here and check the year with most number of apps released"
   ]
  },
  {
   "cell_type": "markdown",
   "metadata": {},
   "source": [
    "7. Last Updated"
   ]
  },
  {
   "cell_type": "code",
   "execution_count": null,
   "metadata": {},
   "outputs": [],
   "source": [
    "df['Last Updated']"
   ]
  },
  {
   "cell_type": "markdown",
   "metadata": {},
   "source": [
    "- It shows the last time an app was updated. Here we can calculate when a specific app was released and afterwards it was updated or not."
   ]
  },
  {
   "cell_type": "markdown",
   "metadata": {},
   "source": [
    "8. Privacy Policy"
   ]
  },
  {
   "cell_type": "code",
   "execution_count": null,
   "metadata": {},
   "outputs": [],
   "source": [
    "df['Privacy Policy']"
   ]
  },
  {
   "cell_type": "markdown",
   "metadata": {},
   "source": [
    "- From here we can read the privacy policy of applications and it is very important to give because it tells us which permissions an application access while installing in our device."
   ]
  },
  {
   "cell_type": "markdown",
   "metadata": {},
   "source": [
    "9. Scraped Time"
   ]
  },
  {
   "cell_type": "code",
   "execution_count": null,
   "metadata": {},
   "outputs": [],
   "source": [
    "df['Scraped Time']"
   ]
  },
  {
   "cell_type": "markdown",
   "metadata": {},
   "source": [
    "- From here we can see when the data for a particular app was scraped and we can also calculate how much time it take and also when most data was scraped and it also tells us that we do not have any further updates available if made after the data scraped."
   ]
  },
  {
   "cell_type": "markdown",
   "metadata": {},
   "source": [
    "10. Free"
   ]
  },
  {
   "cell_type": "code",
   "execution_count": null,
   "metadata": {},
   "outputs": [],
   "source": [
    "df['Free']"
   ]
  },
  {
   "cell_type": "markdown",
   "metadata": {},
   "source": [
    "- This column shows which apps are free and which apps are paid with True and False respectively. We can convert it to paid and free from True and False for easy understanding."
   ]
  },
  {
   "cell_type": "markdown",
   "metadata": {},
   "source": [
    "**Paid and Free Apps**"
   ]
  },
  {
   "cell_type": "code",
   "execution_count": null,
   "metadata": {},
   "outputs": [],
   "source": [
    "df['Type'] = np.where(df['Free']==True, 'Free', 'Paid')\n",
    "df.drop(['Free'], axis=1, inplace=True)"
   ]
  },
  {
   "cell_type": "code",
   "execution_count": null,
   "metadata": {},
   "outputs": [],
   "source": [
    "df['Type']"
   ]
  },
  {
   "cell_type": "code",
   "execution_count": null,
   "metadata": {},
   "outputs": [],
   "source": [
    "num_free_apps = len(df[df['Type'] == 'Free'])\n",
    "print(num_free_apps)"
   ]
  },
  {
   "cell_type": "markdown",
   "metadata": {},
   "source": [
    "- From here we can easily see the Free/Paid Apps rather than True/False.\n",
    "- Number of free apps on Google playstore greater than number of paid apps that is 2267616\n",
    "- We can also check whether Free apps have more installations or Paid apps."
   ]
  },
  {
   "cell_type": "markdown",
   "metadata": {},
   "source": [
    "**Dealing with Content Rating**"
   ]
  },
  {
   "cell_type": "code",
   "execution_count": null,
   "metadata": {},
   "outputs": [],
   "source": [
    "df['Content Rating'].value_counts()"
   ]
  },
  {
   "cell_type": "markdown",
   "metadata": {},
   "source": [
    "- From here we can see that the apps that the most number of apps on Google playstore are for eveyone and least number of apps are for Adults only 18+\n",
    "- From here, We can calculate which type of apps have most number of installs\n",
    "- We can also use `ANOVA` to see the difference between apps type on playstore but we mostly appy it when there is very little difference between values and we do it according to the requirements of our company or stakeholder.\n",
    "- Here we can make main categories to represent data for better understanding, like\n",
    "  - Adults only 18+ -> Adults\n",
    "  - Everyone 10+ -> Teen\n",
    "  - Unrated -> Everyone\n",
    "  - Mature 17+ -> Adults"
   ]
  },
  {
   "cell_type": "code",
   "execution_count": null,
   "metadata": {},
   "outputs": [],
   "source": [
    "df['Content Rating'] = df['Content Rating'].replace('Unrated', 'Everyone')\n",
    "df['Content Rating'] = df['Content Rating'].replace('Adults only 18+', 'Adults')\n",
    "df['Content Rating'] = df['Content Rating'].replace('Mature 17+', 'Adults')\n",
    "df['Content Rating'] = df['Content Rating'].replace('Everyone 10+', 'Teen')"
   ]
  },
  {
   "cell_type": "code",
   "execution_count": null,
   "metadata": {},
   "outputs": [],
   "source": [
    "df['Content Rating'].unique()"
   ]
  },
  {
   "cell_type": "markdown",
   "metadata": {},
   "source": [
    "11. Rating"
   ]
  },
  {
   "cell_type": "code",
   "execution_count": null,
   "metadata": {},
   "outputs": [],
   "source": [
    "df['Rating'].unique()"
   ]
  },
  {
   "cell_type": "markdown",
   "metadata": {},
   "source": [
    "- It shows different ratings to different apps given by users.\n",
    "- Maximum rating is 5\n",
    "- Here we can also calculate the number of apps with maximum rating that is 5."
   ]
  },
  {
   "cell_type": "markdown",
   "metadata": {},
   "source": [
    "12. Rating Count"
   ]
  },
  {
   "cell_type": "code",
   "execution_count": null,
   "metadata": {},
   "outputs": [],
   "source": [
    "df['Rating Count']"
   ]
  },
  {
   "cell_type": "code",
   "execution_count": null,
   "metadata": {},
   "outputs": [],
   "source": [
    "max_rating_count = max(df['Rating Count'])\n",
    "max_rating_count"
   ]
  },
  {
   "cell_type": "code",
   "execution_count": null,
   "metadata": {},
   "outputs": [],
   "source": [
    "max_rating_rows = df[df['Rating Count'] == max_rating_count]\n",
    "\n",
    "# Extract App Name and App Id from the filtered rows\n",
    "app_name = max_rating_rows['App Name'].iloc[0]\n",
    "app_id = max_rating_rows['App Id'].iloc[0]\n",
    "print(app_name)\n",
    "print(app_id)"
   ]
  },
  {
   "cell_type": "markdown",
   "metadata": {},
   "source": [
    "- It represents the number of people who give rating to an app\n",
    "- It shows the maximum number of rating count to an app are 138557570.0\n",
    "- It shows that the maximum Rating count App is `Whatsapp` with App Id `com.whatsapp`\n",
    "- We can also divide it into different categories for better understanding"
   ]
  },
  {
   "cell_type": "markdown",
   "metadata": {},
   "source": [
    "**Rating Count Categories**"
   ]
  },
  {
   "cell_type": "code",
   "execution_count": null,
   "metadata": {},
   "outputs": [],
   "source": [
    "df['Rating Type'] = 'NoRatingProvided'\n",
    "df.loc[(df['Rating Count']>0)&(df['Rating Count']<=10000.0), 'Rating Type'] = 'Less than 10k'\n",
    "df.loc[(df['Rating Count']>10000.0)&(df['Rating Count']<=500000.0), 'Rating Type'] = 'Between 10k and 500k'\n",
    "df.loc[(df['Rating Count']>500000.0)&(df['Rating Count']<=138557570.0), 'Rating Type'] = 'More than 500k'\n",
    "df['Rating Type'].value_counts()"
   ]
  },
  {
   "cell_type": "markdown",
   "metadata": {},
   "source": [
    "- Here we are again tide up the data and we have converted ***Rating Count*** into different categories and sorted it according to which apps counts with Rating Count:\n",
    "    - Less than 10k -> 1192855\n",
    "    - NoRatingProvided -> 1082645\n",
    "    - Between 10k and 500k -> 35779\n",
    "    - More than 500k -> 1665"
   ]
  },
  {
   "cell_type": "markdown",
   "metadata": {},
   "source": [
    "## **Important Questions related Data**"
   ]
  },
  {
   "cell_type": "markdown",
   "metadata": {},
   "source": [
    "### **1. What are the top 10 categories of Apps on Google Playstore?**"
   ]
  },
  {
   "cell_type": "code",
   "execution_count": null,
   "metadata": {},
   "outputs": [],
   "source": [
    "df['Category'].unique()"
   ]
  },
  {
   "cell_type": "code",
   "execution_count": null,
   "metadata": {},
   "outputs": [],
   "source": [
    "top_category = df.Category.value_counts().reset_index().rename(columns={'Category':'Category', 'index':'Category'})\n",
    "top_category"
   ]
  },
  {
   "cell_type": "code",
   "execution_count": null,
   "metadata": {},
   "outputs": [],
   "source": [
    "top_category_installs = pd.merge(top_category, Category_installs, on='Category')\n",
    "top_10_category_installs = top_category_installs.head(10).sort_values(by=['Installs'], ascending=False)\n",
    "plt.figure(figsize=(16, 8))\n",
    "plt.xticks(rotation=60)\n",
    "plt.title('Top 10 Categories of Apps')\n",
    "sns.barplot(x='Category', y='count', data=top_10_category_installs)\n",
    "\n",
    "plt.show()"
   ]
  },
  {
   "cell_type": "markdown",
   "metadata": {},
   "source": [
    "- From the above dataframe, you can see that the top 10 categories are:\n",
    "  1. Education -> 241090\n",
    "  2. Music & Audio -> 154906\n",
    "  3. Tools -> 143988\n",
    "  4. Business -> 143771\n",
    "  5. Entertainment -> 138276\n",
    "  6. Lifestyle -> 118331\n",
    "  7. Books & Reference -> 116728\n",
    "  8. Personalization -> 89210\n",
    "  9. Health & Fitness -> 83510\n",
    "  10. Productivity -> 79698\n",
    "- It also tells us that there are less number of `tools` apps available on Google playstore and this category has the largest number of innstallations. So there is opportunity for businesses to invest in this category."
   ]
  },
  {
   "cell_type": "markdown",
   "metadata": {},
   "source": [
    "### **2. Which are the categories that are getting installed the most in top 10 categories?**"
   ]
  },
  {
   "cell_type": "code",
   "execution_count": null,
   "metadata": {},
   "outputs": [],
   "source": [
    "Category_installs = df.groupby(['Category'])[['Installs']].sum()\n",
    "print(Category_installs)"
   ]
  },
  {
   "cell_type": "code",
   "execution_count": null,
   "metadata": {},
   "outputs": [],
   "source": [
    "top_category_installs = pd.merge(top_category, Category_installs, on='Category')\n",
    "top_category_installs.head()"
   ]
  },
  {
   "cell_type": "markdown",
   "metadata": {},
   "source": [
    "- Top Category installs:\n",
    "    1. Tools -> 71440271217\n",
    "    2. Entertainment -> 17108396833\n",
    "    3. Music & Audio -> 14239401798\n",
    "    4. Education -> 5983815847\n",
    "    5. Business -> 5236661902"
   ]
  },
  {
   "cell_type": "markdown",
   "metadata": {},
   "source": [
    "#### **Top 10 most Installed Categories**"
   ]
  },
  {
   "cell_type": "code",
   "execution_count": null,
   "metadata": {},
   "outputs": [],
   "source": [
    "top_10_category_installs = top_category_installs.head(10).sort_values(by=['Installs'], ascending=False)\n",
    "import matplotlib\n",
    "matplotlib.rcParams['figure.figsize'] = (20,8)\n",
    "plt.title(\"Top 10 most Installed Categories\")\n",
    "sns.barplot(x=top_10_category_installs.Category, y=top_10_category_installs.Installs)"
   ]
  },
  {
   "cell_type": "markdown",
   "metadata": {},
   "source": [
    "According to our analysis, these are the top 10 most installed categories:\n",
    "1. Tools\n",
    "2. Productivity\n",
    "3. Entertainment\n",
    "4. Music & Audio\n",
    "5. Personalization\n",
    "6. Lifestyle\n",
    "7. Education\n",
    "8. Business\n",
    "9. Books & Reference\n",
    "10. Health & Fitness"
   ]
  },
  {
   "cell_type": "code",
   "execution_count": null,
   "metadata": {},
   "outputs": [],
   "source": [
    "plt.figure(figsize=(8,6))\n",
    "data = df.groupby('Category')['Maximum Installs'].max().sort_values(ascending=True)\n",
    "data = data.head(10)\n",
    "labels = data.keys()\n",
    "plt.pie(data, labels=labels, autopct='%1.1f%%')\n",
    "plt.title('Top 10 Categories with Maximum Installs')\n",
    "plt.show()"
   ]
  },
  {
   "cell_type": "markdown",
   "metadata": {},
   "source": [
    "- From here we can see the maximum installed categories of applications"
   ]
  },
  {
   "cell_type": "markdown",
   "metadata": {},
   "source": [
    "### **3. Which is the highest rated category?**"
   ]
  },
  {
   "cell_type": "code",
   "execution_count": null,
   "metadata": {},
   "outputs": [],
   "source": [
    "# Filter the dataframe\n",
    "filtered_df = df[df['Rating'] == 5.0]\n",
    "\n",
    "# Group the resulting dataframe by the Category column and calculate the mean rating for each category\n",
    "grouped_df = filtered_df.groupby('Category')['Rating'].mean().reset_index()\n",
    "\n",
    "# Sort the resulting dataframe by the mean rating in descending order\n",
    "sorted_df = grouped_df.sort_values('Rating', ascending=False)\n",
    "\n",
    "# Select the first row of the resulting dataframe, which will be the highest rated category\n",
    "highest_rated_category = sorted_df.iloc[0]['Category']\n",
    "\n",
    "# Print the result\n",
    "print(\"The highest rated category is:\", highest_rated_category)"
   ]
  },
  {
   "cell_type": "markdown",
   "metadata": {},
   "source": [
    "- It shows the highest rated category that has a rating of 5.0 is ***Action***"
   ]
  },
  {
   "cell_type": "code",
   "execution_count": null,
   "metadata": {},
   "outputs": [],
   "source": [
    "plt.figure(figsize=(14,7))\n",
    "plt.title(\"HIghest Rated Category\")\n",
    "sns.barplot(x='Category', y='Rating', data=df)\n",
    "plt.xticks(rotation=90)\n",
    "plt.show()"
   ]
  },
  {
   "cell_type": "markdown",
   "metadata": {},
   "source": [
    "- It gives you more clear picture about the Rating of different categories."
   ]
  },
  {
   "cell_type": "markdown",
   "metadata": {},
   "source": [
    "### **4. Which Category has the highest Paid and Free apps?**"
   ]
  },
  {
   "cell_type": "code",
   "execution_count": null,
   "metadata": {},
   "outputs": [],
   "source": [
    "# Filter the dataframe to include only the rows where the Type column is \"Free\" or \"Paid\"\n",
    "filtered_df = df[df['Type'].isin(['Free', 'Paid'])]\n",
    "\n",
    "# Group the resulting dataframe by the Category column and count the number of rows for each category where the Type column is \"Free\" or \"Paid\"\n",
    "grouped_df = filtered_df.groupby(['Category', 'Type']).size().reset_index(name='Count')\n",
    "\n",
    "# Pivot the resulting dataframe to have the categories as rows and the types as columns\n",
    "pivoted_df = grouped_df.pivot(index='Category', columns='Type', values='Count').reset_index()\n",
    "\n",
    "# Sort the resulting dataframe by the count of free apps in descending order\n",
    "sorted_free_df = pivoted_df.sort_values('Free', ascending=False)\n",
    "\n",
    "# Sort the resulting dataframe by the count of paid apps in descending order\n",
    "sorted_paid_df = pivoted_df.sort_values('Paid', ascending=False)\n",
    "\n",
    "# Select the first row of the resulting dataframe for the category with the most free apps\n",
    "most_free_category = sorted_free_df.iloc[0]['Category']\n",
    "\n",
    "# Select the first row of the resulting dataframe for the category with the highest paid apps\n",
    "highest_paid_category = sorted_paid_df.iloc[0]['Category']\n",
    "\n",
    "# Print the results\n",
    "print(\"The category with the most free apps is:\", most_free_category)\n",
    "print(\"The category with the highest paid apps is:\", highest_paid_category)"
   ]
  },
  {
   "cell_type": "markdown",
   "metadata": {},
   "source": [
    "- It shows that ***Education*** is the category with the most free and paid apps."
   ]
  },
  {
   "cell_type": "code",
   "execution_count": null,
   "metadata": {},
   "outputs": [],
   "source": [
    "# Filter the dataframe to include only the rows where the Type column is \"Free\" or \"Paid\"\n",
    "filtered_df = df[df['Type'].isin(['Free', 'Paid'])]\n",
    "\n",
    "# Group the resulting dataframe by the Category column and count the number of rows for each category where the Type column is \"Free\" or \"Paid\"\n",
    "grouped_df = filtered_df.groupby(['Category', 'Type']).size().reset_index(name='Count')\n",
    "\n",
    "# Pivot the resulting dataframe to have the categories as rows and the types as columns\n",
    "pivoted_df = grouped_df.pivot(index='Category', columns='Type', values='Count').reset_index()\n",
    "\n",
    "# Sort the resulting dataframe by the count of free apps in descending order\n",
    "sorted_free_df = pivoted_df.sort_values('Free', ascending=False)\n",
    "\n",
    "# Sort the resulting dataframe by the count of paid apps in descending order\n",
    "sorted_paid_df = pivoted_df.sort_values('Paid', ascending=False)\n",
    "\n",
    "# Print the resulting dataframes\n",
    "print(\"Category-wise count of free apps:\")\n",
    "print(sorted_free_df)\n",
    "\n",
    "print(\"\\nCategory-wise count of paid apps:\")\n",
    "print(sorted_paid_df)"
   ]
  },
  {
   "cell_type": "markdown",
   "metadata": {},
   "source": [
    "- From here we can see the exact count of paid and free apps in each category "
   ]
  },
  {
   "cell_type": "code",
   "execution_count": null,
   "metadata": {},
   "outputs": [],
   "source": [
    "# Create a cross-tabulation of the \"Category\" and \"Type\" columns\n",
    "ct = pd.crosstab(df['Category'], df['Type'])\n",
    "\n",
    "# Stack the resulting dataframe\n",
    "stacked_df = ct.stack().reset_index()\n",
    "\n",
    "# title of the plot\n",
    "plt.title('Free vs Paid Apps in All Categories')\n",
    "\n",
    "plt.xticks(rotation=90)\n",
    "# Create a stacked bar plot of the resulting dataframe with Seaborn\n",
    "sns.set_style(\"whitegrid\")\n",
    "sns.barplot(x=stacked_df['Category'], y=stacked_df[0], hue=stacked_df['Type'], palette=\"rocket\")\n",
    "\n",
    "# Add labels and title\n",
    "plt.xlabel('Category')\n",
    "plt.ylabel('Count')\n",
    "plt.title('Free vs Paid Apps in All Categories')\n",
    "\n",
    "# Show the plot\n",
    "plt.show()"
   ]
  },
  {
   "cell_type": "markdown",
   "metadata": {},
   "source": [
    "### **5. How does the size of the application impacts the installation?**"
   ]
  },
  {
   "cell_type": "code",
   "execution_count": null,
   "metadata": {},
   "outputs": [],
   "source": [
    "plt.figure(figsize=(18,9))\n",
    "plt.xticks(rotation=60, fontsize=9)\n",
    "plt.title(\"Impact of Application size on Installations\")\n",
    "sns.scatterplot(x='Size', y='Installs', hue='Type', data=df)"
   ]
  },
  {
   "cell_type": "markdown",
   "metadata": {},
   "source": [
    "### **6. What is the impact of Content Rating on Maximum Installations?**"
   ]
  },
  {
   "cell_type": "code",
   "execution_count": null,
   "metadata": {},
   "outputs": [],
   "source": [
    "plt.figure(figsize=(12,6))\n",
    "sns.scatterplot(data=df, x='Maximum Installs', y='Rating Count', hue='Content Rating')\n",
    "plt.title('Content Rating and Maximum Installations')"
   ]
  },
  {
   "cell_type": "markdown",
   "metadata": {},
   "source": [
    "### **7. How many apps are available in each category?**"
   ]
  },
  {
   "cell_type": "code",
   "execution_count": null,
   "metadata": {},
   "outputs": [],
   "source": [
    "plt.figure(figsize=(16, 12))\n",
    "plt.xticks(rotation=90)\n",
    "plt.title('Number of Apps in each category')\n",
    "sns.barplot(y='Category', x='count', data=top_category_installs)\n",
    "\n",
    "plt.show()"
   ]
  },
  {
   "cell_type": "markdown",
   "metadata": {},
   "source": [
    "- From here we can easily visualize the number of apps in each category.\n",
    "- Top 5 categories with most number of apps\n",
    "  1. Education\n",
    "  2. Music & Audio\n",
    "  3. Tools\n",
    "  4. Business\n",
    "  5. Entertainment"
   ]
  },
  {
   "cell_type": "markdown",
   "metadata": {},
   "source": [
    "### **8. How many apps have a rating above a certain threshold (e.g., 4.0)?**"
   ]
  },
  {
   "cell_type": "code",
   "execution_count": null,
   "metadata": {},
   "outputs": [],
   "source": [
    "# Filter the dataframe\n",
    "filtered_df = df[df['Rating'] > 4.0]\n",
    "\n",
    "# Count the number of rows\n",
    "total_apps_above_4_rating = len(filtered_df)\n",
    "\n",
    "# Print the result\n",
    "print(\"Total number of apps with a rating above 4.0:\", total_apps_above_4_rating)"
   ]
  },
  {
   "cell_type": "markdown",
   "metadata": {},
   "source": [
    "- It shows that there are 750285 Apps with rating above 4.0"
   ]
  },
  {
   "cell_type": "code",
   "execution_count": null,
   "metadata": {},
   "outputs": [],
   "source": [
    "plt.figure(figsize=(12,6))\n",
    "sns.kdeplot(df.Rating, color='Blue', shade=True)\n",
    "plt.xlabel('Rating')\n",
    "plt.ylabel('Frequency')\n",
    "plt.title('Distribution of Rating')"
   ]
  },
  {
   "cell_type": "markdown",
   "metadata": {},
   "source": [
    "- It shows that most apps have zero rating, means that most of the time app have not been rated and mostly rating is between 4 to 5. We can visualize it more clearly with the help of histplot."
   ]
  },
  {
   "cell_type": "code",
   "execution_count": null,
   "metadata": {},
   "outputs": [],
   "source": [
    "plt.figure(figsize=(12,6))\n",
    "sns.histplot(df.Rating, kde=True ,bins=5)\n",
    "plt.title('Distribution of Rating')"
   ]
  },
  {
   "cell_type": "markdown",
   "metadata": {},
   "source": [
    "- Here we can see more clearly that people mostly don't give ratings but if they do it is most of the time between 4 and 5"
   ]
  },
  {
   "cell_type": "markdown",
   "metadata": {},
   "source": [
    "### **9. What are the top 5 Free Apps based on highest ratings and installs?**"
   ]
  },
  {
   "cell_type": "code",
   "execution_count": null,
   "metadata": {},
   "outputs": [],
   "source": [
    "free_apps = df[(df.Type=='Free')&(df.Installs>=5000000)]\n",
    "free_apps = free_apps.groupby('App Name')['Rating'].max().sort_values(ascending=False)\n",
    "free_apps.head(5)"
   ]
  },
  {
   "cell_type": "code",
   "execution_count": null,
   "metadata": {},
   "outputs": [],
   "source": [
    "# category_type_installs = df.groupby(['Category', 'Type'])[['Installs']].sum().reset_index()\n",
    "# category_type_installs['log_Installs'] = np.log10(category_type_installs['Installs'])"
   ]
  },
  {
   "cell_type": "code",
   "execution_count": null,
   "metadata": {},
   "outputs": [],
   "source": [
    "plt.figure(figsize=(18,7))\n",
    "plt.title(\"Top 5 Free Rated Apps\")\n",
    "sns.lineplot(x=free_apps.values, y=free_apps.index, color = 'Red')"
   ]
  },
  {
   "cell_type": "markdown",
   "metadata": {},
   "source": [
    "### **10. What are the top 5 Paid Apps based on highest ratings and installs?**"
   ]
  },
  {
   "cell_type": "code",
   "execution_count": null,
   "metadata": {},
   "outputs": [],
   "source": [
    "paid_apps = df[(df.Type=='Paid')&(df.Installs>=5000000)]\n",
    "paid_apps = paid_apps.groupby('App Name')['Rating'].max().sort_values(ascending=False)\n",
    "paid_apps.head(5)"
   ]
  },
  {
   "cell_type": "code",
   "execution_count": null,
   "metadata": {},
   "outputs": [],
   "source": [
    "plt.figure(figsize=(18,7))\n",
    "plt.title(\"Top 5 Paid Rated Apps\")\n",
    "sns.lineplot(x=paid_apps.values, y=paid_apps.index, color = 'Blue')"
   ]
  },
  {
   "cell_type": "code",
   "execution_count": null,
   "metadata": {},
   "outputs": [],
   "source": [
    "df.head()"
   ]
  },
  {
   "cell_type": "markdown",
   "metadata": {},
   "source": [
    "### **Heat map to see the correlation between different features**"
   ]
  },
  {
   "cell_type": "markdown",
   "metadata": {},
   "source": [
    "In order to see the correlation, we have to drop categoricla columns from the Dataframe"
   ]
  },
  {
   "cell_type": "code",
   "execution_count": null,
   "metadata": {},
   "outputs": [],
   "source": [
    "df.drop(columns=['Currency', 'Developer Id', 'Developer Email', 'Last Updated', 'Scraped Time', 'Category', 'App Id', 'Content Rating', 'Rating Type', 'App Name', 'Minimum Android', 'Released', 'Privacy Policy', 'Developer Website', 'Type'], inplace=True)"
   ]
  },
  {
   "cell_type": "code",
   "execution_count": null,
   "metadata": {},
   "outputs": [],
   "source": [
    "df.dropna(subset=['Rating', 'Rating Count'], inplace=True)"
   ]
  },
  {
   "cell_type": "code",
   "execution_count": null,
   "metadata": {},
   "outputs": [],
   "source": [
    "df.corr()"
   ]
  },
  {
   "cell_type": "code",
   "execution_count": null,
   "metadata": {},
   "outputs": [],
   "source": [
    "plt.figure(figsize=(20,10))\n",
    "plt.title(\"Heatmap\")\n",
    "sns.heatmap(df.corr(), cbar=True, yticklabels=True, annot=True, cmap='viridis')\n",
    "plt.show()"
   ]
  },
  {
   "cell_type": "markdown",
   "metadata": {},
   "source": [
    "- It gives you the complete overview of all the important features' correlation\n",
    "  - There is slightly postive correlation between ***Installs*** and ***Rating Count***, means that if Rating Count increases Install will also increase.\n",
    "  - There is negative correlation between between ***Price*** and ***Installs***, means that if price increae installs will decrease.\n",
    "  - There is negative correlation between ***Size*** and ***Installs***, means that if size increase installs will decrease.\n",
    "  - Factors like ***Ad Support*** and ***In App Purchases*** are correlated to ***Rating***, means that if app provides customer support and subscription plans then we can engage more customers\n",
    "  - ***Editors Choice*** is also correlated to ***Rating Count***"
   ]
  },
  {
   "cell_type": "markdown",
   "metadata": {},
   "source": [
    "## **Conclusion:**\n",
    "- Most people do not give rating but the peole who do, tend to give 4+ rating the most.\n",
    "- Most of the installations are are done by the teen and the most of them are Video players and Editors.\n",
    "- Size of the application varies the installations\n",
    "- People have mostly installed the free apps and the availability of free apps is also high\n",
    "- In App purchases are correlated to Rating count means that if apps will have subscription plans it will help to engage customers.\n",
    "- Most apps available on Google playstore are of education category but most number of installations are of tools category. So there is opportunity for businesses to invest in this category. "
   ]
  }
 ],
 "metadata": {
  "kernelspec": {
   "display_name": "Python 3",
   "language": "python",
   "name": "python3"
  },
  "language_info": {
   "codemirror_mode": {
    "name": "ipython",
    "version": 3
   },
   "file_extension": ".py",
   "mimetype": "text/x-python",
   "name": "python",
   "nbconvert_exporter": "python",
   "pygments_lexer": "ipython3",
   "version": "3.11.5"
  },
  "orig_nbformat": 4
 },
 "nbformat": 4,
 "nbformat_minor": 2
}
