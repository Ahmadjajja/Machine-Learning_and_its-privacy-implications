{
  "cells": [
    {
      "cell_type": "markdown",
      "metadata": {
        "id": "tsEW-cvKhYKa"
      },
      "source": [
        "## **Import Libraries**"
      ]
    },
    {
      "cell_type": "code",
      "execution_count": null,
      "metadata": {
        "id": "Ei32NUlu1Vz-"
      },
      "outputs": [],
      "source": [
        "import pandas as pd\n",
        "import numpy as np\n",
        "import matplotlib.pyplot as plt\n",
        "%matplotlib inline\n",
        "import sklearn\n",
        "import seaborn as sns\n",
        "import warnings\n",
        "warnings.filterwarnings('ignore')\n",
        "plt.rcParams[\"figure.figsize\"] = [10,8]"
      ]
    },
    {
      "cell_type": "code",
      "execution_count": null,
      "metadata": {
        "id": "ubQCL-d6iaoa"
      },
      "outputs": [],
      "source": [
        "import warnings\n",
        "warnings.simplefilter(action = 'ignore', category = FutureWarning)"
      ]
    },
    {
      "cell_type": "markdown",
      "metadata": {
        "id": "PdwNo1tDkX5Y"
      },
      "source": [
        "# **Load the dataset**"
      ]
    },
    {
      "cell_type": "code",
      "execution_count": null,
      "metadata": {
        "id": "_F1V3ZpukWhw"
      },
      "outputs": [],
      "source": [
        "df = pd.read_csv('../Datasets/USA_Housing.csv')"
      ]
    },
    {
      "cell_type": "code",
      "execution_count": null,
      "metadata": {
        "colab": {
          "base_uri": "https://localhost:8080/",
          "height": 320
        },
        "id": "klIECXfVkpjO",
        "outputId": "2cfe50a2-d6ed-434d-f0ae-7a861fb1b66e"
      },
      "outputs": [],
      "source": [
        "df.head()"
      ]
    },
    {
      "cell_type": "code",
      "execution_count": null,
      "metadata": {
        "colab": {
          "base_uri": "https://localhost:8080/"
        },
        "id": "EiJukW6-k0tQ",
        "outputId": "8d2bbf5e-dcff-4c49-f662-69dff504478e"
      },
      "outputs": [],
      "source": [
        "df.shape"
      ]
    },
    {
      "cell_type": "code",
      "execution_count": null,
      "metadata": {
        "colab": {
          "base_uri": "https://localhost:8080/",
          "height": 300
        },
        "id": "8FsIGn7kv_el",
        "outputId": "be07eff8-b0fd-438d-f9f3-458bb2948aac"
      },
      "outputs": [],
      "source": [
        "df.describe()"
      ]
    },
    {
      "cell_type": "code",
      "execution_count": null,
      "metadata": {
        "colab": {
          "base_uri": "https://localhost:8080/"
        },
        "id": "ljQTZZp_k-cn",
        "outputId": "8ce8d16d-cbf3-4b52-ab69-eb8c839616ad"
      },
      "outputs": [],
      "source": [
        "df.nunique()"
      ]
    },
    {
      "cell_type": "code",
      "execution_count": null,
      "metadata": {
        "colab": {
          "base_uri": "https://localhost:8080/"
        },
        "id": "6YR1GDfJlFd1",
        "outputId": "94390eb0-c643-4442-ac88-851ac722bb26"
      },
      "outputs": [],
      "source": [
        "df.isnull().sum()"
      ]
    },
    {
      "cell_type": "code",
      "execution_count": null,
      "metadata": {
        "colab": {
          "base_uri": "https://localhost:8080/"
        },
        "id": "CIgPPl2VlK2P",
        "outputId": "d7891866-14b1-4a27-f586-891d8deb4c07"
      },
      "outputs": [],
      "source": [
        "df.info()"
      ]
    },
    {
      "cell_type": "markdown",
      "metadata": {
        "id": "t8sUDI3N3wi3"
      },
      "source": [
        "## **1. Perform EDA on the dataset which should include**"
      ]
    },
    {
      "cell_type": "markdown",
      "metadata": {
        "id": "kYYFF1KImtAc"
      },
      "source": [
        "### **a. Visualization** and explore the data using seaborn\n",
        "#### **i.** Add your findings about the data under each graph in the colab notebook"
      ]
    },
    {
      "cell_type": "code",
      "execution_count": null,
      "metadata": {
        "colab": {
          "base_uri": "https://localhost:8080/",
          "height": 718
        },
        "id": "p8VloUz7nHGa",
        "outputId": "0a63f226-1e46-43ce-9431-a0de1d33eda9"
      },
      "outputs": [],
      "source": [
        "sns.histplot(data=df['Area Population'], kde=False)\n",
        "plt.title(\"Histogram of Area Population\")\n",
        "plt.show()"
      ]
    },
    {
      "cell_type": "markdown",
      "metadata": {
        "id": "k7saEr454BaV"
      },
      "source": [
        "- This histogram should the relation of population with the number of houses. It shows that as the number of houses increase in a particular area its population also increases."
      ]
    },
    {
      "cell_type": "code",
      "execution_count": null,
      "metadata": {
        "colab": {
          "base_uri": "https://localhost:8080/",
          "height": 681
        },
        "id": "p25VE_2GhypD",
        "outputId": "14bd2608-b902-468f-c343-9dac47f656b5"
      },
      "outputs": [],
      "source": [
        "sns.boxenplot(data=df['Area Population'])\n",
        "plt.show()"
      ]
    },
    {
      "cell_type": "code",
      "execution_count": null,
      "metadata": {
        "colab": {
          "base_uri": "https://localhost:8080/",
          "height": 718
        },
        "id": "ydPPZ4SGwZBe",
        "outputId": "615a9ed4-5d2f-4ba6-8872-ea44e35a625d"
      },
      "outputs": [],
      "source": [
        "sns.histplot(data=df['Price'], kde=True)\n",
        "plt.title(\"Histogram of Price\")\n",
        "plt.show()"
      ]
    },
    {
      "cell_type": "markdown",
      "metadata": {
        "id": "QGCyhwQ_4fFJ"
      },
      "source": [
        "- This histogram shows the relationship of number of houses with price. It clearly shows that if the number of houses increases in a particular area then its price also increases."
      ]
    },
    {
      "cell_type": "code",
      "execution_count": null,
      "metadata": {
        "colab": {
          "base_uri": "https://localhost:8080/",
          "height": 727
        },
        "id": "PdpzfJJowz2g",
        "outputId": "b79c7c10-973a-4f4c-a339-3fd03f6c6d1a"
      },
      "outputs": [],
      "source": [
        "sns.set_theme(style=\"darkgrid\")\n",
        "sns.regplot(data=df, x='Avg. Area Number of Rooms', y='Price')\n",
        "plt.title(\"Regplot of Rooms and Price\")\n",
        "plt.show()"
      ]
    },
    {
      "cell_type": "markdown",
      "metadata": {
        "id": "opTZEdz58dq0"
      },
      "source": [
        "- This regplot shows that there is negative relationship between Avg. Area number of Rooms and Price. It means, that if in a particular area there are more number of rooms then its price is low or vice versa."
      ]
    },
    {
      "cell_type": "code",
      "execution_count": null,
      "metadata": {
        "colab": {
          "base_uri": "https://localhost:8080/",
          "height": 703
        },
        "id": "oW5qDmla8815",
        "outputId": "2e49f3f9-4379-4ccd-9b8d-ea9586f5562e"
      },
      "outputs": [],
      "source": [
        "sns.set_theme(style=\"whitegrid\")\n",
        "# Sample size you want for visualization (e.g., 1000 data points)\n",
        "sample_size = 2000\n",
        "# Randomly sample data from the DataFrame\n",
        "sampled_data = df.sample(n=sample_size, random_state=42)\n",
        "# Now create the box plot using the sampled data\n",
        "plt.boxplot(sampled_data['Area Population'])\n",
        "plt.title('Box Plot')\n",
        "plt.show()"
      ]
    },
    {
      "cell_type": "markdown",
      "metadata": {
        "id": "WL9Njft9NcU4"
      },
      "source": [
        "- In this box plot, i have used sample values which means that I have not used all the data of the **Area Population** columnn due to larger number of rows. It is showing outliers, it means that some areas have much larger of population and some areas have much lesser population and these are outliers in our **Area population** column."
      ]
    },
    {
      "cell_type": "code",
      "execution_count": null,
      "metadata": {
        "colab": {
          "base_uri": "https://localhost:8080/",
          "height": 727
        },
        "id": "igqZmXQJCN8p",
        "outputId": "63ca4b6d-46c7-48f2-bbd9-27abe43abee3"
      },
      "outputs": [],
      "source": [
        "# Sample size you want for visualization (e.g., 1000 data points)\n",
        "sample_size = 2000\n",
        "\n",
        "# Assuming 'x_column' and 'y_column' are the column names for your x and y values in the DataFrame 'df'\n",
        "# Randomly sample data from the DataFrame\n",
        "sampled_data = df.sample(n=sample_size, random_state=42)\n",
        "\n",
        "# Use the sampled data for x and y values\n",
        "x_values = sampled_data['Avg. Area Number of Rooms']\n",
        "y_values = sampled_data['Area Population']\n",
        "\n",
        "# Plot the line with sampled x and y values\n",
        "plt.scatter(x_values, y_values)\n",
        "plt.title('Line Plot with Sampled Data')\n",
        "\n",
        "plt.xlabel(\"Avg. Area Number of Rooms\")\n",
        "plt.ylabel(\"Area Population\")\n",
        "# Show the plot\n",
        "plt.show()"
      ]
    },
    {
      "cell_type": "code",
      "execution_count": null,
      "metadata": {
        "colab": {
          "base_uri": "https://localhost:8080/",
          "height": 703
        },
        "id": "nS-tq6PVG0ZY",
        "outputId": "12d36cf8-9b3b-4340-c19d-75b597304da4"
      },
      "outputs": [],
      "source": [
        "sns.violinplot(data=df['Avg. Area House Age'])\n",
        "plt.title(\"Violin plot of Avg. Area House Age\")\n",
        "plt.show()"
      ]
    },
    {
      "cell_type": "markdown",
      "metadata": {
        "id": "M-iubeutaz0O"
      },
      "source": [
        "- The above violin plot shows the distribution for Average Area house age, it means that there are more older houses."
      ]
    },
    {
      "cell_type": "code",
      "execution_count": null,
      "metadata": {
        "colab": {
          "base_uri": "https://localhost:8080/",
          "height": 727
        },
        "id": "O7OXXdnnHxWz",
        "outputId": "02e25011-0c3e-4e85-c02f-c904042f47e7"
      },
      "outputs": [],
      "source": [
        "sns.lineplot(data = df, x='Avg. Area House Age', y='Price')\n",
        "plt.title(\"Line plot of Average Area House Age and Price\")\n",
        "plt.show()"
      ]
    },
    {
      "cell_type": "markdown",
      "metadata": {
        "id": "aIDUIlyfIKWv"
      },
      "source": [
        "- Due to sheer number of rows, it is bit difficult to understand but if we analyze closely then it is showing that as the Average area house age increases then price also increases. In simple words, more old houses have more price as compared to others."
      ]
    },
    {
      "cell_type": "code",
      "execution_count": null,
      "metadata": {
        "colab": {
          "base_uri": "https://localhost:8080/",
          "height": 727
        },
        "id": "Cfr9qru9I1bF",
        "outputId": "c4a0c5db-b520-4f01-f2f5-238ac7fa68d2"
      },
      "outputs": [],
      "source": [
        "sns.lineplot(data = df, x='Avg. Area Number of Rooms', y='Price')\n",
        "plt.title(\"Line plot of Average Area Number of Rooms and Price\")\n",
        "plt.show()"
      ]
    },
    {
      "cell_type": "markdown",
      "metadata": {
        "id": "mdpYY911JX5c"
      },
      "source": [
        "- Same is the case with Average Area Number of Rooms. As number of rooms increases, price also increases."
      ]
    },
    {
      "cell_type": "code",
      "execution_count": null,
      "metadata": {
        "colab": {
          "base_uri": "https://localhost:8080/",
          "height": 524
        },
        "id": "obeHublpO2lk",
        "outputId": "9b7fd217-3216-42a0-fc96-6376d7446869"
      },
      "outputs": [],
      "source": [
        "plt.figure(figsize=(10,8))\n",
        "sns.lmplot(data=df, x='Avg. Area Income', y='Price', aspect=1.5)\n",
        "plt.title(\"lmplot of Price and Income\")\n",
        "plt.show()"
      ]
    },
    {
      "cell_type": "markdown",
      "metadata": {
        "id": "eErRhcmXUkzD"
      },
      "source": [
        "- It shows that there is a positive relationship between Price and Income."
      ]
    },
    {
      "cell_type": "code",
      "execution_count": null,
      "metadata": {
        "colab": {
          "base_uri": "https://localhost:8080/",
          "height": 930
        },
        "id": "KgyusPRkVCRm",
        "outputId": "b3b9d058-7f84-4263-e9d9-8b1958dd1717"
      },
      "outputs": [],
      "source": [
        "sns.heatmap(df.corr(), annot=True, cmap=\"viridis\", cbar=True, fmt='.2f')\n",
        "plt.title(\"Heatmap\")\n",
        "plt.show()"
      ]
    },
    {
      "cell_type": "markdown",
      "metadata": {
        "id": "fupSHTF7WvB_"
      },
      "source": [
        "- Heatmap shows that there is not as much strong correlation between most of the features, and mostly the features are independent to each other."
      ]
    },
    {
      "cell_type": "code",
      "execution_count": null,
      "metadata": {
        "colab": {
          "base_uri": "https://localhost:8080/",
          "height": 1000
        },
        "id": "9F2x6-wqZyGq",
        "outputId": "1f00845c-5aa9-4934-b45d-5fc467f98a41"
      },
      "outputs": [],
      "source": [
        "sns.pairplot(data=df)\n",
        "plt.title(\"Pair plot\")\n",
        "plt.show()"
      ]
    },
    {
      "cell_type": "markdown",
      "metadata": {
        "id": "YY4cYVX-aR0C"
      },
      "source": [
        "- It shows the relationship of each feature in the dataset. Here, we can see the correlation at a single place for all features."
      ]
    },
    {
      "cell_type": "markdown",
      "metadata": {
        "id": "O6UWaxzVmMp5"
      },
      "source": [
        "### **b. Identify the data patterns** if exist for single/multiple variables\n",
        "#### **i.** Write your findings under the plots or code that identify the pattern"
      ]
    },
    {
      "cell_type": "code",
      "execution_count": null,
      "metadata": {
        "id": "HkPUZeI1igyi"
      },
      "outputs": [],
      "source": [
        "sns.histplot(data=df['Area Population'], kde=False)\n",
        "plt.title(\"Histogram of Area Population\")\n",
        "plt.show()"
      ]
    },
    {
      "cell_type": "markdown",
      "metadata": {
        "id": "BFMAnMyjjESs"
      },
      "source": [
        "- This histogram should the relation of population with the number of houses. It shows that as the number of houses increase in a particular area its population also increases."
      ]
    },
    {
      "cell_type": "code",
      "execution_count": null,
      "metadata": {
        "id": "nIgFsJIfjGnW"
      },
      "outputs": [],
      "source": [
        "sns.set_theme(style=\"darkgrid\")\n",
        "sns.regplot(data=df, x='Avg. Area Number of Rooms', y='Price')\n",
        "plt.title(\"Regplot of Rooms and Price\")\n",
        "plt.show()"
      ]
    },
    {
      "cell_type": "markdown",
      "metadata": {
        "id": "SfaqEpBhi64T"
      },
      "source": [
        "- This regplot shows that there is negative relationship between Avg. Area number of Rooms and Price. It means, that if in a particular area there are more number of rooms then its price is low or vice versa."
      ]
    },
    {
      "cell_type": "code",
      "execution_count": null,
      "metadata": {
        "id": "WBZO0houj9g3"
      },
      "outputs": [],
      "source": [
        "plt.figure(figsize=(10,8))\n",
        "sns.lmplot(data=df, x='Avg. Area Income', y='Price', aspect=1.5)\n",
        "plt.title(\"lmplot of Price and Income\")\n",
        "plt.show()"
      ]
    },
    {
      "cell_type": "markdown",
      "metadata": {
        "id": "-Tjsg8XGj-iR"
      },
      "source": [
        "- It shows that there is a positive relationship between Price and Income."
      ]
    },
    {
      "cell_type": "markdown",
      "metadata": {
        "id": "2vGtDG5JlQl4"
      },
      "source": [
        "### **c. Clean the dataset,** remove the missing values\n",
        "#### i. Explain your approach in the colab notebook cell"
      ]
    },
    {
      "cell_type": "code",
      "execution_count": null,
      "metadata": {
        "colab": {
          "base_uri": "https://localhost:8080/",
          "height": 930
        },
        "id": "_SBFHQ8Blv-h",
        "outputId": "709e7baf-ca0f-42d2-ce14-1ee531e9988a"
      },
      "outputs": [],
      "source": [
        "# heatmap to see the missing values in the dataset\n",
        "sns.heatmap(df.isnull(), yticklabels=False, cbar=False, cmap=\"viridis\")\n",
        "plt.title(\"Missing Data\")\n",
        "plt.show()"
      ]
    },
    {
      "cell_type": "code",
      "execution_count": null,
      "metadata": {
        "colab": {
          "base_uri": "https://localhost:8080/"
        },
        "id": "l1MGR2Hvnvqv",
        "outputId": "81b96554-52f8-4407-a935-bf75a635ecbd"
      },
      "outputs": [],
      "source": [
        "df.isnull().sum()"
      ]
    },
    {
      "cell_type": "code",
      "execution_count": null,
      "metadata": {
        "id": "m30x1pw40zxQ"
      },
      "outputs": [],
      "source": [
        "df.drop('Address', axis = 1, inplace = True)"
      ]
    },
    {
      "cell_type": "code",
      "execution_count": null,
      "metadata": {
        "colab": {
          "base_uri": "https://localhost:8080/",
          "height": 206
        },
        "id": "a6OLd_hToQj9",
        "outputId": "ad164a9c-6a9f-40d6-9ee5-cd4738fe128e"
      },
      "outputs": [],
      "source": [
        "df.dropna(inplace = True)\n",
        "df.head()"
      ]
    },
    {
      "cell_type": "markdown",
      "metadata": {
        "id": "1fuBZNJTn1Oh"
      },
      "source": [
        "- **My Approach:**\\\n",
        "I have used for heatmap and .isnull(), but there are no missing values in the dataset. Still, I have used .dropna() function for precaution to drop any missing values from dataset."
      ]
    },
    {
      "cell_type": "markdown",
      "metadata": {
        "id": "KDtA6x4Ton9w"
      },
      "source": [
        "### **d. Select the target variable** and clearly mention reason for selecting it"
      ]
    },
    {
      "cell_type": "markdown",
      "metadata": {
        "id": "6C8HYtVzs8jF"
      },
      "source": [
        "**Target variable:**\\\n",
        "Price\\\n",
        "**Reason:**\\\n",
        "I am selecting **price** as my target variable, because the algorithms we are going to use are regressors and they are used for predicting numerical values. So, I think **price** is a better choice as target variable."
      ]
    },
    {
      "cell_type": "code",
      "execution_count": null,
      "metadata": {
        "id": "PFVU40sXzmwZ"
      },
      "outputs": [],
      "source": [
        "x = df.drop('Price', axis = 1)\n",
        "y = df['Price']"
      ]
    },
    {
      "cell_type": "markdown",
      "metadata": {
        "id": "exNahBtyvivw"
      },
      "source": [
        "### **e. Transform the Dataset**\n",
        "#### i. Transform the whole dataset (Features, Target Variable)"
      ]
    },
    {
      "cell_type": "code",
      "execution_count": null,
      "metadata": {
        "id": "0d2PpAiFpqeN"
      },
      "outputs": [],
      "source": [
        "from sklearn import preprocessing"
      ]
    },
    {
      "cell_type": "code",
      "execution_count": null,
      "metadata": {
        "id": "VIdzQqr90JPC"
      },
      "outputs": [],
      "source": [
        "# Transforming features\n",
        "pre_process_x = preprocessing.StandardScaler().fit(x)\n",
        "x_transform = pre_process_x.fit_transform(x)"
      ]
    },
    {
      "cell_type": "code",
      "execution_count": null,
      "metadata": {
        "id": "ccCOLrbyukwZ"
      },
      "outputs": [],
      "source": [
        "# Transforming target variable\n",
        "y_array = y.to_numpy()\n",
        "y_reshaped_column = y_array.reshape(-1, 1)\n",
        "pre_process_y = preprocessing.StandardScaler().fit(y_reshaped_column)\n",
        "y_transform = pre_process_y.fit_transform(y_reshaped_column)"
      ]
    },
    {
      "cell_type": "markdown",
      "metadata": {
        "id": "BGx7uKBPzOim"
      },
      "source": [
        "### **f. Split the Dataset** into train and test set"
      ]
    },
    {
      "cell_type": "code",
      "execution_count": null,
      "metadata": {
        "id": "hIbATgsozu6p"
      },
      "outputs": [],
      "source": [
        "from sklearn.model_selection import train_test_split\n",
        "x_train, x_test, y_train, y_test = train_test_split(x_transform, y_transform, test_size = .20, random_state=101)"
      ]
    },
    {
      "cell_type": "markdown",
      "metadata": {
        "id": "Jk2ipUda17i0"
      },
      "source": [
        "## **2. Use the Scikit Learn Library to fit the Regression Models**"
      ]
    },
    {
      "cell_type": "markdown",
      "metadata": {
        "id": "G8f5zMk02vMK"
      },
      "source": [
        "### **a.** Use the different regression models\n",
        "#### **i.** Linear regression\n",
        "#### **ii.** Decision Tree Regressor\n",
        "#### **iii.** Random forest Regressor\n",
        "#### **iv.** Gradient boosting Regressor"
      ]
    },
    {
      "cell_type": "markdown",
      "metadata": {
        "id": "CdSi-KO53quh"
      },
      "source": [
        "## **i. Linear Regression**"
      ]
    },
    {
      "cell_type": "code",
      "execution_count": null,
      "metadata": {
        "colab": {
          "base_uri": "https://localhost:8080/",
          "height": 75
        },
        "id": "m6AwdZAJ3ZIC",
        "outputId": "b815e5cf-efed-4433-ac37-a6a2ce3ae3db"
      },
      "outputs": [],
      "source": [
        "# Import model\n",
        "from sklearn.linear_model import LinearRegression\n",
        "\n",
        "# Creating instance of the model\n",
        "lin_reg = LinearRegression()\n",
        "\n",
        "# Pass training data to model\n",
        "lin_reg.fit(x_train, y_train)"
      ]
    },
    {
      "cell_type": "code",
      "execution_count": null,
      "metadata": {
        "id": "pVlce1oF4iPE"
      },
      "outputs": [],
      "source": [
        "# Predict\n",
        "y_pred_lreg = lin_reg.predict(x_test)"
      ]
    },
    {
      "cell_type": "code",
      "execution_count": null,
      "metadata": {
        "colab": {
          "base_uri": "https://localhost:8080/",
          "height": 681
        },
        "id": "votzTgnF7s1k",
        "outputId": "000d6111-0806-4c89-9425-7b35893d860c"
      },
      "outputs": [],
      "source": [
        "# Convert y_test and y_pred to 1-dimensional arrays using .flatten()\n",
        "y_test_1d = y_test.flatten()\n",
        "y_pred_1d = y_pred_lreg.flatten()\n",
        "\n",
        "# Plot the scatter plot and the ideal line\n",
        "sns.scatterplot(x=y_test_1d, y=y_pred_1d, color='blue', label='Actual Data points')\n",
        "plt.plot([min(y_test_1d), max(y_test_1d)], [min(y_test_1d), max(y_test_1d)], color='red', label='Ideal Line')\n",
        "plt.legend()\n",
        "plt.show()"
      ]
    },
    {
      "cell_type": "code",
      "execution_count": null,
      "metadata": {
        "id": "F_w_Ixbn_KtT"
      },
      "outputs": [],
      "source": [
        "# Combine actual and predicted values side by side\n",
        "results = np.column_stack((y_test, y_pred_lreg))\n",
        "\n",
        "# Printing the results\n",
        "print(\"Actual Values  |  Predicted Values\")\n",
        "print(\"-----------------------------\")\n",
        "for actual, predicted in results:\n",
        "    print(f\"{actual:14.2f} | {predicted:12.2f}\")"
      ]
    },
    {
      "cell_type": "code",
      "execution_count": null,
      "metadata": {
        "colab": {
          "base_uri": "https://localhost:8080/"
        },
        "id": "9xZjyPTZCScL",
        "outputId": "87ecd165-92b7-4191-bcd6-79f2e7258eaa"
      },
      "outputs": [],
      "source": [
        "# Score It\n",
        "from sklearn.metrics import mean_squared_error\n",
        "\n",
        "print('Linear Regression Model')\n",
        "# Results\n",
        "print('--'*30)\n",
        "# mean_squared_error(y_test, y_pred)\n",
        "mse_lreg = mean_squared_error(y_test, y_pred_lreg)\n",
        "rmse_lreg = np.sqrt(mse_lreg)\n",
        "\n",
        "# Print evaluation metrics\n",
        "print(\"Mean Squared Error:\", mse_lreg)\n",
        "print(\"Root Mean Squared Error:\", rmse_lreg)"
      ]
    },
    {
      "cell_type": "markdown",
      "metadata": {
        "id": "u3w_81mA6hzQ"
      },
      "source": [
        "## **ii. Decision tree Regressor**"
      ]
    },
    {
      "cell_type": "code",
      "execution_count": null,
      "metadata": {
        "id": "jZGweSEu6rWu"
      },
      "outputs": [],
      "source": [
        "# Import model\n",
        "from sklearn.tree import DecisionTreeRegressor\n",
        "\n",
        "# Creating instance of the model\n",
        "Dtr = DecisionTreeRegressor()\n",
        "\n",
        "# Pass training data to model\n",
        "Dtr.fit(x_train, y_train)\n",
        "\n",
        "y_pred_dtr = Dtr.predict(x_test)"
      ]
    },
    {
      "cell_type": "code",
      "execution_count": null,
      "metadata": {
        "colab": {
          "base_uri": "https://localhost:8080/"
        },
        "id": "mGKtDhFhMJlQ",
        "outputId": "64031e17-3e4d-4b8d-d7d8-7a91beb95012"
      },
      "outputs": [],
      "source": [
        "print('Decision Tree Regressor')\n",
        "# Results\n",
        "print('--'*30)\n",
        "# mean_squared_error(y_test, y_pred)\n",
        "mse_dtr = mean_squared_error(y_test, y_pred_dtr)\n",
        "rmse_dtr = np.sqrt(mse_dtr)\n",
        "\n",
        "# Print evaluation metrics\n",
        "print(\"Mean Squared Error:\", mse_dtr)\n",
        "print(\"Root Mean Squared Error:\", rmse_dtr)"
      ]
    },
    {
      "cell_type": "markdown",
      "metadata": {
        "id": "jALiAwzRHBaH"
      },
      "source": [
        "## **iii. Random forest Regressor**"
      ]
    },
    {
      "cell_type": "code",
      "execution_count": null,
      "metadata": {
        "id": "C5J10mswHIf1"
      },
      "outputs": [],
      "source": [
        "# Import model\n",
        "from sklearn.ensemble import RandomForestRegressor\n",
        "\n",
        "# Creating instance of the model\n",
        "Rfr = RandomForestRegressor()\n",
        "\n",
        "# Pass training data to model\n",
        "Rfr.fit(x_train, y_train)\n",
        "\n",
        "y_pred_rfr = Rfr.predict(x_test)"
      ]
    },
    {
      "cell_type": "code",
      "execution_count": null,
      "metadata": {
        "colab": {
          "base_uri": "https://localhost:8080/"
        },
        "id": "YSRkOUQJJ37R",
        "outputId": "ae0eedaf-de3b-43d3-a82d-f1acd9de394a"
      },
      "outputs": [],
      "source": [
        "print('Random Tree Regressor')\n",
        "# Results\n",
        "print('--'*30)\n",
        "# mean_squared_error(y_test, y_pred_rtr)\n",
        "mse_rfr = mean_squared_error(y_test, y_pred_rfr)\n",
        "rmse_rfr = np.sqrt(mse_rfr)\n",
        "\n",
        "# Print evaluation metrics\n",
        "print(\"Mean Squared Error:\", mse_rfr)\n",
        "print(\"Root Mean Squared Error:\", rmse_rfr)"
      ]
    },
    {
      "cell_type": "markdown",
      "metadata": {
        "id": "JDWmV9ftKLFz"
      },
      "source": [
        "## **iv. Gradient boosting Regressor**"
      ]
    },
    {
      "cell_type": "code",
      "execution_count": null,
      "metadata": {
        "id": "aWvoRsi_KSix"
      },
      "outputs": [],
      "source": [
        "# Import model\n",
        "from sklearn.ensemble import GradientBoostingRegressor\n",
        "\n",
        "# Creating instance of the model\n",
        "Gbr = GradientBoostingRegressor()\n",
        "\n",
        "# Pass training data to model\n",
        "Gbr.fit(x_train, y_train)\n",
        "\n",
        "y_pred_gbr = Gbr.predict(x_test)"
      ]
    },
    {
      "cell_type": "code",
      "execution_count": null,
      "metadata": {
        "colab": {
          "base_uri": "https://localhost:8080/"
        },
        "id": "4x-dD83UKw1E",
        "outputId": "54958e63-bb83-47da-9684-890110b6f731"
      },
      "outputs": [],
      "source": [
        "print('Gradient Boosting Regressor')\n",
        "# Results\n",
        "print('--'*30)\n",
        "# mean_squared_error(y_test, y_pred_rtr)\n",
        "mse_gbr = mean_squared_error(y_test, y_pred_gbr)\n",
        "rmse_gbr = np.sqrt(mse_gbr)\n",
        "\n",
        "# Print evaluation metrics\n",
        "print(\"Mean Squared Error:\", mse_gbr)\n",
        "print(\"Root Mean Squared Error:\", rmse_gbr)"
      ]
    },
    {
      "cell_type": "markdown",
      "metadata": {
        "id": "xOvUVyBaLw0e"
      },
      "source": [
        "### **b.** You have to report the **MSE** result with the following combinations\n",
        "#### **i.** Without feature scaling\n",
        "#### **ii.** With only feature scaling (without target variable)\n",
        "#### **iii.** With feature and target variable scaling"
      ]
    },
    {
      "cell_type": "markdown",
      "metadata": {
        "id": "zEOS8PSTXWjz"
      },
      "source": [
        "## **i. Without feature scaling**"
      ]
    },
    {
      "cell_type": "code",
      "execution_count": null,
      "metadata": {
        "colab": {
          "base_uri": "https://localhost:8080/"
        },
        "id": "6iHJCPGbYYqb",
        "outputId": "0fd51a95-fba1-47ac-fdb1-a94025e407b5"
      },
      "outputs": [],
      "source": [
        "from sklearn.linear_model import LinearRegression\n",
        "from sklearn.tree import DecisionTreeRegressor\n",
        "from sklearn.ensemble import RandomForestRegressor\n",
        "from sklearn.ensemble import GradientBoostingRegressor\n",
        "from sklearn.metrics import mean_squared_error\n",
        "\n",
        "from sklearn.model_selection import train_test_split\n",
        "x_train, x_test, y_train, y_test = train_test_split(x, y, test_size = .20, random_state = 101)\n",
        "\n",
        "models = [LinearRegression(), DecisionTreeRegressor(), RandomForestRegressor(), GradientBoostingRegressor()]\n",
        "model_names = ('Linear Regression', 'Decision Tree Regressor', 'Random Forest Regressor', 'Gradient Boosting Regressor')\n",
        "\n",
        "models_score = []\n",
        "for model, model_name in zip(models, model_names):\n",
        "  model.fit(x_train, y_train)\n",
        "  y_pred = model.predict(x_test)\n",
        "  mse = mean_squared_error(y_test, y_pred)\n",
        "  models_score.append([model_name, mse])\n",
        "\n",
        "sorted_models = sorted(models_score, key=lambda x: x[1], reverse=True)\n",
        "for model in sorted_models:\n",
        "    print(f'Model: {model[0]}, Mean Squared Error (MSE): {model[1]:.2f}')"
      ]
    },
    {
      "cell_type": "markdown",
      "metadata": {
        "id": "RbgFsohIcU7x"
      },
      "source": [
        "## **ii. With only feature scaling (without target variable)**"
      ]
    },
    {
      "cell_type": "code",
      "execution_count": null,
      "metadata": {
        "colab": {
          "base_uri": "https://localhost:8080/"
        },
        "id": "wmYyUjZMc3Jp",
        "outputId": "f349a35c-72d6-4ce3-db2a-1bf8f528c0e8"
      },
      "outputs": [],
      "source": [
        "from sklearn.linear_model import LinearRegression\n",
        "from sklearn.tree import DecisionTreeRegressor\n",
        "from sklearn.ensemble import RandomForestRegressor\n",
        "from sklearn.ensemble import GradientBoostingRegressor\n",
        "from sklearn.metrics import mean_squared_error\n",
        "\n",
        "from sklearn.model_selection import train_test_split\n",
        "\n",
        "# Assuming the features have been transformed and are stored in 'x_transform'\n",
        "# If you use different transformation techniques, update the description accordingly.\n",
        "x_train, x_test, y_train, y_test = train_test_split(x_transform, y, test_size=0.20, random_state=101)\n",
        "\n",
        "models = [LinearRegression(), DecisionTreeRegressor(), RandomForestRegressor(), GradientBoostingRegressor()]\n",
        "model_names = ('Linear Regression', 'Decision Tree Regressor', 'Random Forest Regressor', 'Gradient Boosting Regressor')\n",
        "\n",
        "models_score = []\n",
        "for model, model_name in zip(models, model_names):\n",
        "    model.fit(x_train, y_train)\n",
        "    y_pred = model.predict(x_test)\n",
        "    mse = mean_squared_error(y_test, y_pred)\n",
        "    models_score.append([model_name, mse])\n",
        "\n",
        "sorted_models = sorted(models_score, key=lambda x: x[1], reverse=True)\n",
        "for model in sorted_models:\n",
        "    print(f'Model: {model[0]}, Mean Squared Error (MSE): {model[1]:.2f}')\n",
        "\n",
        "print(\"Note: Features have been transformed using StandardScaler.\")"
      ]
    },
    {
      "cell_type": "markdown",
      "metadata": {
        "id": "OeGvnBwwegQD"
      },
      "source": [
        "## **iii. With feature and target variable scaling**"
      ]
    },
    {
      "cell_type": "code",
      "execution_count": null,
      "metadata": {
        "colab": {
          "base_uri": "https://localhost:8080/"
        },
        "id": "R0LF7EaZeo_u",
        "outputId": "819a9bd9-b6f7-4b44-f20d-44675c780294"
      },
      "outputs": [],
      "source": [
        "from sklearn.linear_model import LinearRegression\n",
        "from sklearn.tree import DecisionTreeRegressor\n",
        "from sklearn.ensemble import RandomForestRegressor\n",
        "from sklearn.ensemble import GradientBoostingRegressor\n",
        "from sklearn.metrics import mean_squared_error\n",
        "\n",
        "from sklearn.model_selection import train_test_split\n",
        "\n",
        "# Assuming the features have been transformed and are stored in 'x_transform'\n",
        "# If you use different transformation techniques, update the description accordingly.\n",
        "x_train, x_test, y_train, y_test = train_test_split(x_transform, y_transform, test_size=0.20, random_state=101)\n",
        "\n",
        "models = [LinearRegression(), DecisionTreeRegressor(), RandomForestRegressor(), GradientBoostingRegressor()]\n",
        "model_names = ('Linear Regression', 'Decision Tree Regressor', 'Random Forest Regressor', 'Gradient Boosting Regressor')\n",
        "\n",
        "models_score = []\n",
        "for model, model_name in zip(models, model_names):\n",
        "    model.fit(x_train, y_train)\n",
        "    y_pred = model.predict(x_test)\n",
        "    mse = mean_squared_error(y_test, y_pred)\n",
        "    models_score.append([model_name, mse])\n",
        "\n",
        "sorted_models = sorted(models_score, key=lambda x: x[1], reverse=True)\n",
        "for model in sorted_models:\n",
        "    print(f'Model: {model[0]}, Mean Squared Error (MSE): {model[1]:.2f}')\n",
        "\n",
        "print(\"Note: Features and target variable both have been transformed using StandardScaler.\")"
      ]
    },
    {
      "cell_type": "markdown",
      "metadata": {
        "id": "pBnjNedcb5R9"
      },
      "source": [
        "## **Comparison of MSE:**\n",
        "### **Without feature scaling:**\n",
        "- Decision Tree Regressor (MSE): 32320110401.78\n",
        "- Random Forest Regressor (MSE): 15118290670.43\n",
        "- Gradient Boosting Regressor (MSE): 12408033260.39\n",
        "- Linear Regression (MSE): 10100187858.86\n",
        "\n",
        "### **With only feature scaling:**\n",
        "- Decision Tree Regressor (MSE): 32523773080.99\n",
        "- Random Forest Regressor (MSE): 15173002261.80\n",
        "- Gradient Boosting Regressor (MSE): 12400765586.94\n",
        "- Linear Regression (MSE): 10100187858.87\n",
        "\n",
        "### **With feature and target variable scaling:**\n",
        "- Decision Tree Regressor (MSE): 0.25\n",
        "- Random Forest Regressor (MSE): 0.12\n",
        "- Gradient Boosting Regressor (MSE): 0.10\n",
        "- Linear Regression (MSE): 0.08"
      ]
    },
    {
      "cell_type": "markdown",
      "metadata": {
        "id": "CjZHuiTJOZBL"
      },
      "source": [
        "### **c.** Display the ranking of different models according to their **MSE** values"
      ]
    },
    {
      "cell_type": "code",
      "execution_count": null,
      "metadata": {
        "colab": {
          "base_uri": "https://localhost:8080/"
        },
        "id": "QVlgj33COqDG",
        "outputId": "90685330-81ab-4c34-970c-4082fd49559a"
      },
      "outputs": [],
      "source": [
        "model_scores = {\n",
        "    \"Linear Regression\": 0.08101725519794249,\n",
        "    \"Descison Tree Regressor\": 0.25137569765775214,\n",
        "    \"Random Forest Regressor\": 0.12042240672361741,\n",
        "    \"Gradient Boosting Regressor\": 0.09946292746379987\n",
        "}\n",
        "\n",
        "# Sort the model scores in ascending order based on their values (lower values first)\n",
        "sorted_scores = sorted(model_scores.items(), key=lambda x: x[1])\n",
        "\n",
        "# Display the ranking of the models\n",
        "print(\"Model Rankings according to their MSE values:\")\n",
        "for rank, (model_name, score) in enumerate(sorted_scores, start=1):\n",
        "    print(f\"{rank}. {model_name}: {score}\")"
      ]
    }
  ],
  "metadata": {
    "colab": {
      "provenance": []
    },
    "kernelspec": {
      "display_name": "Python 3",
      "name": "python3"
    },
    "language_info": {
      "name": "python",
      "version": "3.11.5"
    }
  },
  "nbformat": 4,
  "nbformat_minor": 0
}
