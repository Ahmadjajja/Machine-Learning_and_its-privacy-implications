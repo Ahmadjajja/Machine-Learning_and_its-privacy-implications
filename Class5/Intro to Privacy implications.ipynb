{
 "cells": [
  {
   "cell_type": "markdown",
   "metadata": {},
   "source": [
    "<style>\n",
    "  .large-text {\n",
    "    font-size: 1.5em;  /* Adjust font size here (e.g., 1.2em, 2em) */\n",
    "  }\n",
    "</style>\n",
    "\n",
    "<center><b class=\"large-text\">Friday, July 12, 2024</b></center>\n",
    "<center><b class=\"large-text\">Week 1 | Day 5</b></center>\n"
   ]
  },
  {
   "cell_type": "markdown",
   "metadata": {},
   "source": [
    "**Privacy** is defined as the ability to ensure flows of information that satisfy social and legal norms. \n",
    "\n",
    "### Personally Identifiable Information\n",
    "• **Personally Identifiable Information (PII): **Data that can identify someone, either alone or with other data.\n",
    "• **Sensitive PII:** Information like full names, Social Security Numbers, and medical records that could cause harm if disclosed.\n",
    "• **Non-Sensitive PII:** Data like gender or zip code that cannot identify someone alone but can be used with other data to do so.\n",
    "\n",
    ">   General Data Protection Regulation (GDPR): A regulation protecting Pll in Europe, ensuring data is processed lawfully and used for specified purposes.\n",
    "\n",
    "### Anonymization Techniques: Methods to protect PII\n",
    "\n",
    "**• Attribute Suppression:** Removing entire columns of sensitive data.\n",
    "\n",
    "**• Record Suppression:** Removing records with unique or sensitive values.\n",
    "\n",
    "**• Generalization:** Replacing values with more general categories.\n",
    "\n",
    "**• Pseudonymization:** Replacing sensitive values with fake values.\n",
    "\n",
    "**• Data masking**\n",
    "\n",
    "```\n",
    "# Example of attribute suppression in pandas:\n",
    "clients_df.drop('name', axis=1, inplace=True)\n",
    "```\n",
    "Understanding these principles helps protect privacy and comply with regulations.\n"
   ]
  },
  {
   "cell_type": "markdown",
   "metadata": {},
   "source": [
    "![types_of_pii](types_of_pii.png)"
   ]
  },
  {
   "cell_type": "markdown",
   "metadata": {},
   "source": [
    "# Quasi Identifiers:\n",
    "\n",
    "Quasi Identifiers are attributes in a dataset that can be used to identify a person or an entity, but not uniquely. In other words, they are characteristics that can be linked to an individual, but not with absolute certainty.\n",
    "\n",
    "Examples of Quasi Identifiers include:\n",
    "\n",
    "Date of birth\n",
    "Zip code\n",
    "Gender\n",
    "Occupation\n",
    "Education level\n",
    "\n",
    "These attributes can be used in combination with other Quasi Identifiers to re-identify individuals in a dataset, which is a concern in data privacy and anonymization.\n"
   ]
  },
  {
   "cell_type": "markdown",
   "metadata": {},
   "source": [
    "![Quasi Identifiers](quasi_identifiers.png)\n"
   ]
  },
  {
   "cell_type": "markdown",
   "metadata": {},
   "source": [
    "![suppression and linkage attack](suppression.png)\n"
   ]
  },
  {
   "cell_type": "markdown",
   "metadata": {},
   "source": [
    "**Faker** is a popular Python library used to generate fake data. It's often used for testing, data anonymization, and populating databases with sample data.\n",
    "\n",
    "With Faker, you can generate a wide range of fake data, including:\n",
    "\n",
    "-   Names and addresses\n",
    "-   Phone numbers and email addresses\n",
    "-   Text and paragraphs\n",
    "-   Dates and times\n",
    "-   Credit card numbers and expiration dates\n",
    "-   Usernames and passwords\n",
    "\n",
    "Here's an example of how you can use Faker to generate some fake data:\n",
    "```\n",
    "from faker import Faker\n",
    "\n",
    "fake = Faker()\n",
    "\n",
    "print(fake.name())  # Output: Emily Patel\n",
    "print(fake.address())  # Output: 123 Main St, New York, NY 10001\n",
    "print(fake.text())  # Output: Lorem ipsum dolor sit amet, consectetur...\n",
    "```\n",
    "\n",
    "Faker supports multiple languages and locales, making it a versatile tool for generating fake data that's relevant to your specific use case."
   ]
  },
  {
   "cell_type": "markdown",
   "metadata": {},
   "source": []
  }
 ],
 "metadata": {
  "language_info": {
   "name": "python"
  }
 },
 "nbformat": 4,
 "nbformat_minor": 2
}
